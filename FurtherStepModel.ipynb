{
 "cells": [
  {
   "cell_type": "code",
   "execution_count": 2,
   "metadata": {},
   "outputs": [],
   "source": [
    "from re import A\n",
    "import pandas as pd\n",
    "import numpy as np\n",
    "import matplotlib.pyplot as plt\n",
    "import seaborn as sns\n",
    "from sklearn.linear_model import LinearRegression\n",
    "from sklearn.metrics import mean_squared_error\n",
    "from sklearn.model_selection import train_test_split\n",
    "from sklearn.preprocessing import PolynomialFeatures\n",
    "from sklearn.linear_model import LogisticRegression\n",
    "from sklearn.metrics import classification_report"
   ]
  },
  {
   "cell_type": "code",
   "execution_count": 3,
   "metadata": {},
   "outputs": [],
   "source": [
    "df = pd.read_excel('Patients Data ( Used for Heart Disease Prediction ).xlsx')"
   ]
  },
  {
   "cell_type": "code",
   "execution_count": 4,
   "metadata": {},
   "outputs": [
    {
     "data": {
      "text/plain": [
       "Index(['PatientID', 'State', 'Sex', 'GeneralHealth', 'AgeCategory',\n",
       "       'HeightInMeters', 'WeightInKilograms', 'BMI', 'HadHeartAttack',\n",
       "       'HadAngina', 'HadStroke', 'HadAsthma', 'HadSkinCancer', 'HadCOPD',\n",
       "       'HadDepressiveDisorder', 'HadKidneyDisease', 'HadArthritis',\n",
       "       'HadDiabetes', 'DeafOrHardOfHearing', 'BlindOrVisionDifficulty',\n",
       "       'DifficultyConcentrating', 'DifficultyWalking',\n",
       "       'DifficultyDressingBathing', 'DifficultyErrands', 'SmokerStatus',\n",
       "       'ECigaretteUsage', 'ChestScan', 'RaceEthnicityCategory',\n",
       "       'AlcoholDrinkers', 'HIVTesting', 'FluVaxLast12', 'PneumoVaxEver',\n",
       "       'TetanusLast10Tdap', 'HighRiskLastYear', 'CovidPos'],\n",
       "      dtype='object')"
      ]
     },
     "execution_count": 4,
     "metadata": {},
     "output_type": "execute_result"
    }
   ],
   "source": [
    "df.columns"
   ]
  },
  {
   "cell_type": "code",
   "execution_count": 5,
   "metadata": {},
   "outputs": [],
   "source": [
    "stcol = ['SmokerStatus','ECigaretteUsage','TetanusLast10Tdap']"
   ]
  },
  {
   "cell_type": "code",
   "execution_count": 6,
   "metadata": {},
   "outputs": [
    {
     "name": "stdout",
     "output_type": "stream",
     "text": [
      "['Former smoker' 'Never smoked' 'Current smoker - now smokes every day'\n",
      " 'Current smoker - now smokes some days']\n",
      "['Never used e-cigarettes in my entire life' 'Not at all (right now)'\n",
      " 'Use them some days' 'Use them every day']\n",
      "['No, did not receive any tetanus shot in the past 10 years'\n",
      " 'Yes, received Tdap' 'Yes, received tetanus shot but not sure what type'\n",
      " 'Yes, received tetanus shot, but not Tdap']\n"
     ]
    }
   ],
   "source": [
    "for col in stcol:   \n",
    "    print(df[col].unique())"
   ]
  },
  {
   "cell_type": "code",
   "execution_count": 7,
   "metadata": {},
   "outputs": [],
   "source": [
    "data_clean = df.drop(columns=[\"PatientID\", 'HeightInMeters', \"WeightInKilograms\", \"State\"])"
   ]
  },
  {
   "cell_type": "code",
   "execution_count": 8,
   "metadata": {},
   "outputs": [
    {
     "data": {
      "text/html": [
       "<div>\n",
       "<style scoped>\n",
       "    .dataframe tbody tr th:only-of-type {\n",
       "        vertical-align: middle;\n",
       "    }\n",
       "\n",
       "    .dataframe tbody tr th {\n",
       "        vertical-align: top;\n",
       "    }\n",
       "\n",
       "    .dataframe thead th {\n",
       "        text-align: right;\n",
       "    }\n",
       "</style>\n",
       "<table border=\"1\" class=\"dataframe\">\n",
       "  <thead>\n",
       "    <tr style=\"text-align: right;\">\n",
       "      <th></th>\n",
       "      <th>Sex</th>\n",
       "      <th>GeneralHealth</th>\n",
       "      <th>AgeCategory</th>\n",
       "      <th>BMI</th>\n",
       "      <th>HadHeartAttack</th>\n",
       "      <th>HadAngina</th>\n",
       "      <th>HadStroke</th>\n",
       "      <th>HadAsthma</th>\n",
       "      <th>HadSkinCancer</th>\n",
       "      <th>HadCOPD</th>\n",
       "      <th>...</th>\n",
       "      <th>FluVaxLast12</th>\n",
       "      <th>PneumoVaxEver</th>\n",
       "      <th>TetanusLast10Tdap</th>\n",
       "      <th>HighRiskLastYear</th>\n",
       "      <th>CovidPos</th>\n",
       "      <th>RaceEthnicityCategory_Black only, Non-Hispanic</th>\n",
       "      <th>RaceEthnicityCategory_Hispanic</th>\n",
       "      <th>RaceEthnicityCategory_Multiracial, Non-Hispanic</th>\n",
       "      <th>RaceEthnicityCategory_Other race only, Non-Hispanic</th>\n",
       "      <th>RaceEthnicityCategory_White only, Non-Hispanic</th>\n",
       "    </tr>\n",
       "  </thead>\n",
       "  <tbody>\n",
       "    <tr>\n",
       "      <th>0</th>\n",
       "      <td>0</td>\n",
       "      <td>2</td>\n",
       "      <td>77.0</td>\n",
       "      <td>32.099998</td>\n",
       "      <td>0</td>\n",
       "      <td>1</td>\n",
       "      <td>0</td>\n",
       "      <td>1</td>\n",
       "      <td>1</td>\n",
       "      <td>0</td>\n",
       "      <td>...</td>\n",
       "      <td>0</td>\n",
       "      <td>1</td>\n",
       "      <td>0</td>\n",
       "      <td>0</td>\n",
       "      <td>1</td>\n",
       "      <td>0</td>\n",
       "      <td>0</td>\n",
       "      <td>0</td>\n",
       "      <td>0</td>\n",
       "      <td>1</td>\n",
       "    </tr>\n",
       "    <tr>\n",
       "      <th>1</th>\n",
       "      <td>0</td>\n",
       "      <td>4</td>\n",
       "      <td>67.0</td>\n",
       "      <td>27.990000</td>\n",
       "      <td>0</td>\n",
       "      <td>0</td>\n",
       "      <td>0</td>\n",
       "      <td>0</td>\n",
       "      <td>0</td>\n",
       "      <td>0</td>\n",
       "      <td>...</td>\n",
       "      <td>1</td>\n",
       "      <td>1</td>\n",
       "      <td>3</td>\n",
       "      <td>0</td>\n",
       "      <td>0</td>\n",
       "      <td>0</td>\n",
       "      <td>0</td>\n",
       "      <td>0</td>\n",
       "      <td>0</td>\n",
       "      <td>1</td>\n",
       "    </tr>\n",
       "    <tr>\n",
       "      <th>2</th>\n",
       "      <td>1</td>\n",
       "      <td>5</td>\n",
       "      <td>62.0</td>\n",
       "      <td>22.530001</td>\n",
       "      <td>0</td>\n",
       "      <td>0</td>\n",
       "      <td>0</td>\n",
       "      <td>0</td>\n",
       "      <td>0</td>\n",
       "      <td>0</td>\n",
       "      <td>...</td>\n",
       "      <td>0</td>\n",
       "      <td>0</td>\n",
       "      <td>1</td>\n",
       "      <td>0</td>\n",
       "      <td>0</td>\n",
       "      <td>0</td>\n",
       "      <td>0</td>\n",
       "      <td>0</td>\n",
       "      <td>0</td>\n",
       "      <td>1</td>\n",
       "    </tr>\n",
       "    <tr>\n",
       "      <th>3</th>\n",
       "      <td>1</td>\n",
       "      <td>4</td>\n",
       "      <td>72.0</td>\n",
       "      <td>30.129999</td>\n",
       "      <td>0</td>\n",
       "      <td>0</td>\n",
       "      <td>0</td>\n",
       "      <td>0</td>\n",
       "      <td>0</td>\n",
       "      <td>0</td>\n",
       "      <td>...</td>\n",
       "      <td>1</td>\n",
       "      <td>1</td>\n",
       "      <td>1</td>\n",
       "      <td>0</td>\n",
       "      <td>0</td>\n",
       "      <td>0</td>\n",
       "      <td>0</td>\n",
       "      <td>0</td>\n",
       "      <td>0</td>\n",
       "      <td>1</td>\n",
       "    </tr>\n",
       "    <tr>\n",
       "      <th>4</th>\n",
       "      <td>0</td>\n",
       "      <td>3</td>\n",
       "      <td>52.0</td>\n",
       "      <td>27.760000</td>\n",
       "      <td>0</td>\n",
       "      <td>0</td>\n",
       "      <td>0</td>\n",
       "      <td>0</td>\n",
       "      <td>0</td>\n",
       "      <td>0</td>\n",
       "      <td>...</td>\n",
       "      <td>1</td>\n",
       "      <td>0</td>\n",
       "      <td>0</td>\n",
       "      <td>0</td>\n",
       "      <td>0</td>\n",
       "      <td>1</td>\n",
       "      <td>0</td>\n",
       "      <td>0</td>\n",
       "      <td>0</td>\n",
       "      <td>0</td>\n",
       "    </tr>\n",
       "  </tbody>\n",
       "</table>\n",
       "<p>5 rows × 35 columns</p>\n",
       "</div>"
      ],
      "text/plain": [
       "   Sex  GeneralHealth  AgeCategory        BMI  HadHeartAttack  HadAngina  \\\n",
       "0    0              2         77.0  32.099998               0          1   \n",
       "1    0              4         67.0  27.990000               0          0   \n",
       "2    1              5         62.0  22.530001               0          0   \n",
       "3    1              4         72.0  30.129999               0          0   \n",
       "4    0              3         52.0  27.760000               0          0   \n",
       "\n",
       "   HadStroke  HadAsthma  HadSkinCancer  HadCOPD  ...  FluVaxLast12  \\\n",
       "0          0          1              1        0  ...             0   \n",
       "1          0          0              0        0  ...             1   \n",
       "2          0          0              0        0  ...             0   \n",
       "3          0          0              0        0  ...             1   \n",
       "4          0          0              0        0  ...             1   \n",
       "\n",
       "   PneumoVaxEver  TetanusLast10Tdap HighRiskLastYear  CovidPos  \\\n",
       "0              1                  0                0         1   \n",
       "1              1                  3                0         0   \n",
       "2              0                  1                0         0   \n",
       "3              1                  1                0         0   \n",
       "4              0                  0                0         0   \n",
       "\n",
       "   RaceEthnicityCategory_Black only, Non-Hispanic  \\\n",
       "0                                               0   \n",
       "1                                               0   \n",
       "2                                               0   \n",
       "3                                               0   \n",
       "4                                               1   \n",
       "\n",
       "   RaceEthnicityCategory_Hispanic  \\\n",
       "0                               0   \n",
       "1                               0   \n",
       "2                               0   \n",
       "3                               0   \n",
       "4                               0   \n",
       "\n",
       "   RaceEthnicityCategory_Multiracial, Non-Hispanic  \\\n",
       "0                                                0   \n",
       "1                                                0   \n",
       "2                                                0   \n",
       "3                                                0   \n",
       "4                                                0   \n",
       "\n",
       "   RaceEthnicityCategory_Other race only, Non-Hispanic  \\\n",
       "0                                                  0     \n",
       "1                                                  0     \n",
       "2                                                  0     \n",
       "3                                                  0     \n",
       "4                                                  0     \n",
       "\n",
       "   RaceEthnicityCategory_White only, Non-Hispanic  \n",
       "0                                               1  \n",
       "1                                               1  \n",
       "2                                               1  \n",
       "3                                               1  \n",
       "4                                               0  \n",
       "\n",
       "[5 rows x 35 columns]"
      ]
     },
     "execution_count": 8,
     "metadata": {},
     "output_type": "execute_result"
    }
   ],
   "source": [
    "data_clean[\"AgeCategory\"] = df[\"AgeCategory\"].str.extract(r\"(\\d+)\")\n",
    "data_clean[\"AgeCategory\"] = data_clean[\"AgeCategory\"].astype(int)\n",
    "\n",
    "data_clean = pd.get_dummies(data_clean, columns=['RaceEthnicityCategory'])\n",
    "\n",
    "health_mapping = {\n",
    "    \"Excellent\": 5,\n",
    "    \"Very good\": 4,\n",
    "    \"Good\": 3,\n",
    "    \"Fair\": 2,\n",
    "    \"Poor\": 1\n",
    "}\n",
    "data_clean[\"GeneralHealth\"] = data_clean[\"GeneralHealth\"].map(health_mapping)\n",
    "data_clean[\"GeneralHealth\"] = data_clean[\"GeneralHealth\"].astype(int)\n",
    "\n",
    "sex_mapping = {\n",
    "    \"Male\": 1,\n",
    "    \"Female\": 0\n",
    "}\n",
    "\n",
    "data_clean[\"Sex\"] = data_clean[\"Sex\"].map(sex_mapping)\n",
    "data_clean[\"Sex\"] = data_clean[\"Sex\"].astype(int)\n",
    "\n",
    "# MinMax scaling may not be suitable for Age and BMI in certain situations due to their inherent data properties. For Age, as it is showed in the form of intervals, MinMax scaling may not capture the ordinal nature or true differences between groups, and choosing the median of the interval might be more appropriate. For BMI, MinMax scaling is highly sensitive to outliers, which could skew the transformation and compress most values into a narrow range, leading to poor representation of meaningful differences in BMI categories.\n",
    "\n",
    "def extract_mid_value(interval_str):\n",
    "    \"\"\"Extract the middle value from an interval or handle special cases like 'Age 80 or older'.\"\"\"\n",
    "    interval_str = interval_str.astype(str)\n",
    "    \n",
    "    match = interval_str.str.extract(r\"(\\d+)\\s*to\\s*(\\d+)\")\n",
    "    mid_values = match.astype(float).mean(axis=1)\n",
    "\n",
    "    # 'Age 80 or older'\n",
    "    mid_values[interval_str.str.contains(\"80 or older\", na=False)] = 80\n",
    "    return mid_values\n",
    "\n",
    "data_clean['AgeCategory'] = extract_mid_value(df['AgeCategory'])\n",
    "\n",
    "\n",
    "# Encoding Smoker/Ecig status and TetanusLast10dap:\n",
    "\n",
    "smoker_mapping = {\n",
    "    'Never smoked': 0,\n",
    "    'Former smoker': 1,\n",
    "    'Current smoker - now smokes some days': 2,\n",
    "    'Current smoker - now smokes every day': 3\n",
    "}\n",
    "data_clean['SmokerStatus'] = data_clean['SmokerStatus'].map(smoker_mapping)\n",
    "\n",
    "ecig_mapping = {\n",
    "    'Never used e-cigarettes in my entire life': 0,\n",
    "    'Not at all (right now)': 1,\n",
    "    'Use them some days': 2,\n",
    "    'Use them every day': 3\n",
    "}\n",
    "data_clean['ECigaretteUsage'] = data_clean['ECigaretteUsage'].map(ecig_mapping)\n",
    "\n",
    "tetanus_mapping = {\n",
    "    'No, did not receive any tetanus shot in the past 10 years': 0,\n",
    "    'Yes, received tetanus shot but not sure what type': 1,\n",
    "    'Yes, received tetanus shot, but not Tdap': 2,\n",
    "    'Yes, received Tdap': 3\n",
    "}\n",
    "data_clean['TetanusLast10Tdap'] = data_clean['TetanusLast10Tdap'].map(tetanus_mapping)\n",
    "# Or use the ordinal one. I'm not familiar with the vaccine.\n",
    "\n",
    "data_clean.head()"
   ]
  },
  {
   "cell_type": "code",
   "execution_count": 9,
   "metadata": {},
   "outputs": [
    {
     "data": {
      "image/png": "[encoded data removed]",
      "text/plain": [
       "<Figure size 432x288 with 1 Axes>"
      ]
     },
     "metadata": {
      "needs_background": "light"
     },
     "output_type": "display_data"
    },
    {
     "data": {
      "image/png": "[encoded data removed]",
      "text/plain": [
       "<Figure size 432x288 with 1 Axes>"
      ]
     },
     "metadata": {
      "needs_background": "light"
     },
     "output_type": "display_data"
    },
    {
     "data": {
      "image/png": "[encoded data removed]",
      "text/plain": [
       "<Figure size 432x288 with 1 Axes>"
      ]
     },
     "metadata": {
      "needs_background": "light"
     },
     "output_type": "display_data"
    },
    {
     "data": {
      "image/png": "[encoded data removed]",
      "text/plain": [
       "<Figure size 432x288 with 1 Axes>"
      ]
     },
     "metadata": {
      "needs_background": "light"
     },
     "output_type": "display_data"
    },
    {
     "data": {
      "image/png": "[encoded data removed]",
      "text/plain": [
       "<Figure size 432x288 with 1 Axes>"
      ]
     },
     "metadata": {
      "needs_background": "light"
     },
     "output_type": "display_data"
    }
   ],
   "source": [
    "# Visualization\n",
    "import matplotlib.pyplot as plt\n",
    "import seaborn as sns\n",
    "\n",
    "# SmokerStatus\n",
    "sns.countplot(x=data_clean['SmokerStatus'])\n",
    "plt.title('Smoker Status Distribution')\n",
    "plt.xlabel('Smoker Status')\n",
    "plt.ylabel('Count')\n",
    "plt.show()\n",
    "\n",
    "# ECigaretteUsage\n",
    "sns.countplot(x=data_clean['ECigaretteUsage'])\n",
    "plt.title('E-Cigarette Usage Distribution')\n",
    "plt.xlabel('E-Cigarette Usage')\n",
    "plt.ylabel('Count')\n",
    "plt.show()\n",
    "\n",
    "# TetanusLast10Tdap\n",
    "sns.countplot(x=data_clean['TetanusLast10Tdap'])\n",
    "plt.title('Tetanus Vaccination Status Distribution')\n",
    "plt.xlabel('Tetanus Vaccination Status')\n",
    "plt.ylabel('Count')\n",
    "plt.show()\n",
    "\n",
    "# AgeCategory\n",
    "\n",
    "sns.distplot(data_clean['AgeCategory'], kde=True, bins=10)\n",
    "plt.title('Age Category Distribution')\n",
    "plt.xlabel('Age')\n",
    "plt.ylabel('Frequency')\n",
    "plt.show()\n",
    "\n",
    "# BMI\n",
    "sns.distplot(data_clean['BMI'], kde=True, bins=10)\n",
    "plt.title('BMI Distribution')\n",
    "plt.xlabel('BMI')\n",
    "plt.ylabel('Frequency')\n",
    "plt.show()"
   ]
  },
  {
   "cell_type": "code",
   "execution_count": 22,
   "metadata": {},
   "outputs": [
    {
     "name": "stdout",
     "output_type": "stream",
     "text": [
      "<class 'pandas.core.frame.DataFrame'>\n",
      "Int64Index: 2305 entries, 5854 to 29332\n",
      "Data columns (total 35 columns):\n",
      " #   Column                                               Non-Null Count  Dtype  \n",
      "---  ------                                               --------------  -----  \n",
      " 0   Sex                                                  2305 non-null   int32  \n",
      " 1   GeneralHealth                                        2305 non-null   int32  \n",
      " 2   AgeCategory                                          2305 non-null   float64\n",
      " 3   BMI                                                  2305 non-null   float64\n",
      " 4   HadHeartAttack                                       2305 non-null   int64  \n",
      " 5   HadAngina                                            2305 non-null   int64  \n",
      " 6   HadStroke                                            2305 non-null   int64  \n",
      " 7   HadAsthma                                            2305 non-null   int64  \n",
      " 8   HadSkinCancer                                        2305 non-null   int64  \n",
      " 9   HadCOPD                                              2305 non-null   int64  \n",
      " 10  HadDepressiveDisorder                                2305 non-null   int64  \n",
      " 11  HadKidneyDisease                                     2305 non-null   int64  \n",
      " 12  HadArthritis                                         2305 non-null   int64  \n",
      " 13  HadDiabetes                                          2305 non-null   object \n",
      " 14  DeafOrHardOfHearing                                  2305 non-null   int64  \n",
      " 15  BlindOrVisionDifficulty                              2305 non-null   int64  \n",
      " 16  DifficultyConcentrating                              2305 non-null   int64  \n",
      " 17  DifficultyWalking                                    2305 non-null   int64  \n",
      " 18  DifficultyDressingBathing                            2305 non-null   int64  \n",
      " 19  DifficultyErrands                                    2305 non-null   int64  \n",
      " 20  SmokerStatus                                         2305 non-null   int64  \n",
      " 21  ECigaretteUsage                                      2305 non-null   int64  \n",
      " 22  ChestScan                                            2305 non-null   int64  \n",
      " 23  AlcoholDrinkers                                      2305 non-null   int64  \n",
      " 24  HIVTesting                                           2305 non-null   int64  \n",
      " 25  FluVaxLast12                                         2305 non-null   int64  \n",
      " 26  PneumoVaxEver                                        2305 non-null   int64  \n",
      " 27  TetanusLast10Tdap                                    2305 non-null   int64  \n",
      " 28  HighRiskLastYear                                     2305 non-null   int64  \n",
      " 29  CovidPos                                             2305 non-null   int64  \n",
      " 30  RaceEthnicityCategory_Black only, Non-Hispanic       2305 non-null   uint8  \n",
      " 31  RaceEthnicityCategory_Hispanic                       2305 non-null   uint8  \n",
      " 32  RaceEthnicityCategory_Multiracial, Non-Hispanic      2305 non-null   uint8  \n",
      " 33  RaceEthnicityCategory_Other race only, Non-Hispanic  2305 non-null   uint8  \n",
      " 34  RaceEthnicityCategory_White only, Non-Hispanic       2305 non-null   uint8  \n",
      "dtypes: float64(2), int32(2), int64(25), object(1), uint8(5)\n",
      "memory usage: 551.5+ KB\n"
     ]
    }
   ],
   "source": [
    "#running of cleaned HadDiabetes Column along with a model using only the test data\n",
    "data_clean = data_clean[data_clean[\"HadDiabetes\"] != \"Yes, but only during pregnancy (female)\"]\n",
    "data_clean = data_clean[data_clean[\"HadDiabetes\"] != \"No, pre-diabetes or borderline diabetes\"]\n",
    "\n",
    "\n",
    "#Scaled the data to make it easier to compare the weights generated from our model for each feature afterwards.\n",
    "\n",
    "from sklearn.preprocessing import StandardScaler\n",
    "st_scaler = StandardScaler()\n",
    "bmi = pd.DataFrame(data_clean, columns=['BMI'])\n",
    "bmi = st_scaler.fit_transform(bmi)\n",
    "data_clean['BMI'] = bmi\n",
    "data_clean.head()\n",
    "\n",
    "dSample = data_clean.sample(frac=0.01, random_state=42, axis=0)\n",
    "dSample.info()"
   ]
  },
  {
   "cell_type": "code",
   "execution_count": 23,
   "metadata": {},
   "outputs": [
    {
     "name": "stderr",
     "output_type": "stream",
     "text": [
      "C:\\Users\\15358\\AppData\\Roaming\\Python\\Python37\\site-packages\\sklearn\\linear_model\\_logistic.py:818: ConvergenceWarning: lbfgs failed to converge (status=1):\n",
      "STOP: TOTAL NO. of ITERATIONS REACHED LIMIT.\n",
      "\n",
      "Increase the number of iterations (max_iter) or scale the data as shown in:\n",
      "    https://scikit-learn.org/stable/modules/preprocessing.html\n",
      "Please also refer to the documentation for alternative solver options:\n",
      "    https://scikit-learn.org/stable/modules/linear_model.html#logistic-regression\n",
      "  extra_warning_msg=_LOGISTIC_SOLVER_CONVERGENCE_MSG,\n"
     ]
    },
    {
     "name": "stdout",
     "output_type": "stream",
     "text": [
      "\n",
      "Classification Report:\n",
      "              precision    recall  f1-score   support\n",
      "\n",
      "          No       0.88      0.98      0.92     39450\n",
      "         Yes       0.55      0.18      0.27      6654\n",
      "\n",
      "    accuracy                           0.86     46104\n",
      "   macro avg       0.71      0.58      0.59     46104\n",
      "weighted avg       0.83      0.86      0.83     46104\n",
      "\n"
     ]
    }
   ],
   "source": [
    "X = data_clean.drop(\"HadDiabetes\", axis=1)\n",
    "Y = data_clean['HadDiabetes']\n",
    "\n",
    "X_train, X_test, y_train, y_test = train_test_split(X, Y, test_size=0.2, random_state=42)\n",
    "\n",
    "model = LogisticRegression()\n",
    "model.fit(X_train, y_train)\n",
    "\n",
    "y_pred = model.predict(X_test)\n",
    "\n",
    "print(\"\\nClassification Report:\")\n",
    "print(classification_report(y_test, y_pred))"
   ]
  },
  {
   "cell_type": "code",
   "execution_count": null,
   "metadata": {},
   "outputs": [
    {
     "name": "stderr",
     "output_type": "stream",
     "text": [
      "C:\\Users\\15358\\AppData\\Roaming\\Python\\Python37\\site-packages\\sklearn\\linear_model\\_logistic.py:818: ConvergenceWarning: lbfgs failed to converge (status=1):\n",
      "STOP: TOTAL NO. of ITERATIONS REACHED LIMIT.\n",
      "\n",
      "Increase the number of iterations (max_iter) or scale the data as shown in:\n",
      "    https://scikit-learn.org/stable/modules/preprocessing.html\n",
      "Please also refer to the documentation for alternative solver options:\n",
      "    https://scikit-learn.org/stable/modules/linear_model.html#logistic-regression\n",
      "  extra_warning_msg=_LOGISTIC_SOLVER_CONVERGENCE_MSG,\n"
     ]
    },
    {
     "name": "stdout",
     "output_type": "stream",
     "text": [
      "\n",
      "Classification Report:\n",
      "              precision    recall  f1-score   support\n",
      "\n",
      "          No       0.92      0.77      0.84     39493\n",
      "         Yes       0.31      0.61      0.41      6611\n",
      "\n",
      "    accuracy                           0.75     46104\n",
      "   macro avg       0.62      0.69      0.63     46104\n",
      "weighted avg       0.83      0.75      0.78     46104\n",
      "\n"
     ]
    }
   ],
   "source": [
    "# There are 39450 No and 6654 Yes. We can try SMOTE to synthesize the sample\n",
    "from imblearn.over_sampling import SMOTE\n",
    "from sklearn.linear_model import LogisticRegression\n",
    "from sklearn.metrics import classification_report\n",
    "from sklearn.model_selection import train_test_split\n",
    "\n",
    "X_train, X_test, y_train, y_test = train_test_split(X, Y, test_size=0.2, random_state=42, stratify=Y)\n",
    "\n",
    "smote = SMOTE(random_state=42)\n",
    "X_resampled, y_resampled = smote.fit_resample(X_train, y_train)\n",
    "\n",
    "model = LogisticRegression(max_iter=500)\n",
    "model.fit(X_resampled, y_resampled)\n",
    "\n",
    "y_pred = model.predict(X_test)\n",
    "\n",
    "print(\"\\nClassification Report:\")\n",
    "print(classification_report(y_test, y_pred))\n",
    "\n",
    "# But as the output shows, the number of Yes and No does not change as expected. There is a problem.\n"
   ]
  },
  {
   "cell_type": "code",
   "execution_count": 25,
   "metadata": {},
   "outputs": [],
   "source": [
    "# Also in the report, the output says ConvergenceWarning: lbfgs failed to converge (status=1): STOP: TOTAL NO. of ITERATIONS REACHED LIMIT. That is also a problem.\n"
   ]
  }
 ],
 "metadata": {
  "kernelspec": {
   "display_name": "base",
   "language": "python",
   "name": "python3"
  },
  "language_info": {
   "codemirror_mode": {
    "name": "ipython",
    "version": 3
   },
   "file_extension": ".py",
   "mimetype": "text/x-python",
   "name": "python",
   "nbconvert_exporter": "python",
   "pygments_lexer": "ipython3",
   "version": "3.7.0"
  }
 },
 "nbformat": 4,
 "nbformat_minor": 2
}
